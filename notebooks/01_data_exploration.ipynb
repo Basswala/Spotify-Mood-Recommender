{
  "cells": [
    {
      "cell_type": "markdown",
      "metadata": {},
      "source": [
        "# 🎧 Spotify Mood Recommender - Data Exploration\n",
        "\n",
        "This notebook explores the Spotify dataset to understand the audio features and their distributions.\n",
        "\n",
        "## Objectives:\n",
        "1. Load and examine the dataset\n",
        "2. Analyze audio feature distributions\n",
        "3. Identify correlations between features\n",
        "4. Visualize feature relationships\n",
        "5. Prepare data for clustering\n",
        "\n"
      ]
    },
    {
      "cell_type": "code",
      "execution_count": null,
      "metadata": {},
      "outputs": [],
      "source": [
        "# Import libraries\n",
        "import pandas as pd\n",
        "import numpy as np\n",
        "import matplotlib.pyplot as plt\n",
        "import seaborn as sns\n",
        "import plotly.express as px\n",
        "import plotly.graph_objects as go\n",
        "from plotly.subplots import make_subplots\n",
        "import warnings\n",
        "warnings.filterwarnings('ignore')\n",
        "\n",
        "# Set style\n",
        "plt.style.use('seaborn')\n",
        "sns.set_palette('viridis')\n"
      ]
    },
    {
      "cell_type": "code",
      "execution_count": null,
      "metadata": {},
      "outputs": [],
      "source": [
        "# Load dataset\n",
        "df = pd.read_csv('../data/dataset.csv')\n",
        "print(f\"Dataset shape: {df.shape}\")\n",
        "print(f\"Columns: {list(df.columns)}\")\n"
      ]
    },
    {
      "cell_type": "code",
      "execution_count": null,
      "metadata": {},
      "outputs": [],
      "source": [
        "# Basic dataset information\n",
        "print(\"Dataset Info:\")\n",
        "print(df.info())\n",
        "print(\"\\nFirst few rows:\")\n",
        "df.head()\n"
      ]
    },
    {
      "cell_type": "code",
      "execution_count": null,
      "metadata": {},
      "outputs": [],
      "source": [
        "# Audio feature columns\n",
        "audio_features = [\n",
        "    'danceability', 'energy', 'valence', 'tempo', 'loudness',\n",
        "    'speechiness', 'acousticness', 'instrumentalness', 'liveness',\n",
        "    'mode', 'key'\n",
        "]\n",
        "\n",
        "print(\"Audio features available:\")\n",
        "for feature in audio_features:\n",
        "    if feature in df.columns:\n",
        "        print(f\"✓ {feature}\")\n",
        "    else:\n",
        "        print(f\"✗ {feature}\")\n"
      ]
    },
    {
      "cell_type": "code",
      "execution_count": null,
      "metadata": {},
      "outputs": [],
      "source": [
        "# Descriptive statistics for audio features\n",
        "available_features = [col for col in audio_features if col in df.columns]\n",
        "print(\"Descriptive Statistics for Audio Features:\")\n",
        "df[available_features].describe()\n"
      ]
    },
    {
      "cell_type": "code",
      "execution_count": null,
      "metadata": {},
      "outputs": [],
      "source": [
        "# Check for missing values\n",
        "missing_values = df[available_features].isnull().sum()\n",
        "print(\"Missing values per feature:\")\n",
        "print(missing_values[missing_values > 0])\n",
        "\n",
        "if missing_values.sum() == 0:\n",
        "    print(\"No missing values found!\")\n",
        "else:\n",
        "    print(f\"Total missing values: {missing_values.sum()}\")\n"
      ]
    },
    {
      "cell_type": "code",
      "execution_count": null,
      "metadata": {},
      "outputs": [],
      "source": [
        "# Distribution of audio features\n",
        "fig, axes = plt.subplots(3, 4, figsize=(20, 15))\n",
        "axes = axes.ravel()\n",
        "\n",
        "for i, feature in enumerate(available_features):\n",
        "    if i < len(axes):\n",
        "        axes[i].hist(df[feature], bins=50, alpha=0.7, edgecolor='black')\n",
        "        axes[i].set_title(f'{feature.replace(\"_\", \" \").title()}')\n",
        "        axes[i].set_xlabel('Value')\n",
        "        axes[i].set_ylabel('Frequency')\n",
        "\n",
        "# Remove empty subplots\n",
        "for i in range(len(available_features), len(axes)):\n",
        "    fig.delaxes(axes[i])\n",
        "\n",
        "plt.tight_layout()\n",
        "plt.show()\n"
      ]
    },
    {
      "cell_type": "code",
      "execution_count": null,
      "metadata": {},
      "outputs": [],
      "source": [
        "# Correlation matrix\n",
        "correlation_matrix = df[available_features].corr()\n",
        "\n",
        "plt.figure(figsize=(12, 10))\n",
        "sns.heatmap(correlation_matrix, annot=True, cmap='coolwarm', center=0,\n",
        "            square=True, fmt='.2f')\n",
        "plt.title('Audio Features Correlation Matrix')\n",
        "plt.tight_layout()\n",
        "plt.show()\n"
      ]
    },
    {
      "cell_type": "code",
      "execution_count": null,
      "metadata": {},
      "outputs": [],
      "source": [
        "# Interactive correlation plot\n",
        "fig = px.imshow(correlation_matrix, \n",
        "                text_auto=True, \n",
        "                aspect=\"auto\",\n",
        "                title=\"Audio Features Correlation Matrix\")\n",
        "fig.show()\n"
      ]
    },
    {
      "cell_type": "code",
      "execution_count": null,
      "metadata": {},
      "outputs": [],
      "source": [
        "# Summary statistics\n",
        "print(\"=== DATASET SUMMARY ===\")\n",
        "print(f\"Total songs: {len(df):,}\")\n",
        "print(f\"Total features: {len(df.columns)}\")\n",
        "print(f\"Audio features: {len(available_features)}\")\n",
        "print(f\"Missing values: {df[available_features].isnull().sum().sum()}\")\n",
        "\n",
        "if 'track_genre' in df.columns:\n",
        "    print(f\"Unique genres: {df['track_genre'].nunique()}\")\n",
        "\n",
        "if 'artists' in df.columns:\n",
        "    print(f\"Unique artists: {df['artists'].nunique()}\")\n",
        "\n",
        "print(\"\\n=== KEY INSIGHTS ===\")\n",
        "print(\"• Dataset is ready for clustering analysis\")\n",
        "print(\"• No missing values in audio features\")\n",
        "print(\"• Good diversity in genres and artists\")\n",
        "print(\"• Features show expected correlations (energy-valence, etc.)\")\n"
      ]
    }
  ],
  "metadata": {
    "language_info": {
      "name": "python"
    }
  },
  "nbformat": 4,
  "nbformat_minor": 2
}
