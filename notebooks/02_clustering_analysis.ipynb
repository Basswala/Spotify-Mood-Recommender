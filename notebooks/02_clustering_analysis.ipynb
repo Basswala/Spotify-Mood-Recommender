{
  "cells": [
    {
      "cell_type": "markdown",
      "metadata": {},
      "source": [
        "# 🎭 Spotify Mood Clustering Analysis\n",
        "\n",
        "This notebook implements and analyzes mood-based clustering of songs using Spotify audio features.\n",
        "\n",
        "## Objectives:\n",
        "1. Load and preprocess the data\n",
        "2. Implement KMeans clustering\n",
        "3. Analyze cluster characteristics\n",
        "4. Visualize clusters in 2D/3D\n",
        "5. Evaluate clustering quality\n",
        "6. Generate mood labels for clusters\n"
      ]
    },
    {
      "cell_type": "code",
      "execution_count": null,
      "metadata": {},
      "outputs": [],
      "source": [
        "# Import libraries\n",
        "import sys\n",
        "sys.path.append('../src')\n",
        "\n",
        "import pandas as pd\n",
        "import numpy as np\n",
        "import matplotlib.pyplot as plt\n",
        "import seaborn as sns\n",
        "import plotly.express as px\n",
        "import plotly.graph_objects as go\n",
        "from sklearn.cluster import KMeans\n",
        "from sklearn.metrics import silhouette_score, calinski_harabasz_score, davies_bouldin_score\n",
        "from sklearn.decomposition import PCA\n",
        "import umap\n",
        "import warnings\n",
        "warnings.filterwarnings('ignore')\n",
        "\n",
        "from features import AudioFeatureProcessor\n",
        "from cluster import MoodClusterer\n",
        "from viz import MoodVisualizer\n"
      ]
    },
    {
      "cell_type": "code",
      "execution_count": null,
      "metadata": {},
      "outputs": [],
      "source": [
        "# Load and process data\n",
        "df = pd.read_csv('../data/dataset.csv')\n",
        "print(f\"Dataset shape: {df.shape}\")\n",
        "\n",
        "# Initialize processor\n",
        "processor = AudioFeatureProcessor(scaler_type='standard')\n",
        "df_processed = processor.fit_transform(df, remove_outliers=True)\n",
        "print(f\"Processed dataset shape: {df_processed.shape}\")\n",
        "\n",
        "# Get feature columns for clustering\n",
        "feature_cols = processor.get_audio_feature_columns()\n",
        "available_cols = [col for col in feature_cols if col in df_processed.columns]\n",
        "X = df_processed[available_cols].values\n",
        "print(f\"Feature matrix shape: {X.shape}\")\n",
        "print(f\"Features used: {available_cols}\")\n"
      ]
    },
    {
      "cell_type": "code",
      "execution_count": null,
      "metadata": {},
      "outputs": [],
      "source": [
        "# Find optimal number of clusters\n",
        "clusterer = MoodClusterer(algorithm='kmeans', random_state=42)\n",
        "optimal_params = clusterer.find_optimal_clusters(X, max_clusters=15, min_clusters=2)\n",
        "\n",
        "print(\"Optimal clustering parameters:\")\n",
        "print(f\"Optimal clusters: {optimal_params['optimal_clusters']}\")\n",
        "print(f\"Silhouette score: {optimal_params['silhouette_score']:.3f}\")\n",
        "print(f\"Calinski-Harabasz score: {optimal_params['calinski_harabasz_score']:.3f}\")\n",
        "print(f\"Davies-Bouldin score: {optimal_params['davies_bouldin_score']:.3f}\")\n",
        "\n",
        "# Plot silhouette scores\n",
        "results_df = pd.DataFrame(optimal_params['all_results'])\n",
        "plt.figure(figsize=(10, 6))\n",
        "plt.plot(results_df['n_clusters'], results_df['silhouette_score'], 'bo-')\n",
        "plt.xlabel('Number of Clusters')\n",
        "plt.ylabel('Silhouette Score')\n",
        "plt.title('Silhouette Score vs Number of Clusters')\n",
        "plt.grid(True)\n",
        "plt.show()\n"
      ]
    },
    {
      "cell_type": "code",
      "execution_count": null,
      "metadata": {},
      "outputs": [],
      "source": [
        "# Fit clustering model with optimal parameters\n",
        "clusterer.fit(X, n_clusters=optimal_params['optimal_clusters'])\n",
        "print(f\"Clustering completed with {len(clusterer.cluster_stats)} clusters\")\n",
        "\n",
        "# Display cluster information\n",
        "print(\"\\n=== CLUSTER INFORMATION ===\")\n",
        "for i, stat in enumerate(clusterer.cluster_stats):\n",
        "    mood_label = clusterer.mood_labels.get(stat['cluster_id'], f\"Cluster {stat['cluster_id']}\")\n",
        "    print(f\"\\nCluster {stat['cluster_id']}: {mood_label}\")\n",
        "    print(f\"  Size: {stat['size']} songs ({stat['percentage']:.1f}%)\")\n",
        "    print(f\"  Mean features: {[f'{x:.3f}' for x in stat['mean_features'][:5]]}...\")\n"
      ]
    },
    {
      "cell_type": "code",
      "execution_count": null,
      "metadata": {},
      "outputs": [],
      "source": [
        "# Create visualizations\n",
        "visualizer = MoodVisualizer()\n",
        "\n",
        "# UMAP visualization\n",
        "print(\"Creating UMAP visualization...\")\n",
        "fig_umap = visualizer.create_cluster_scatter_plot(\n",
        "    X, clusterer.cluster_labels, clusterer.mood_labels, method='umap'\n",
        ")\n",
        "fig_umap.show()\n",
        "\n",
        "# PCA visualization\n",
        "print(\"Creating PCA visualization...\")\n",
        "fig_pca = visualizer.create_cluster_scatter_plot(\n",
        "    X, clusterer.cluster_labels, clusterer.mood_labels, method='pca'\n",
        ")\n",
        "fig_pca.show()\n"
      ]
    },
    {
      "cell_type": "code",
      "execution_count": null,
      "metadata": {},
      "outputs": [],
      "source": [
        "# Feature distribution analysis\n",
        "print(\"Creating feature distribution plots...\")\n",
        "fig_dist = visualizer.create_feature_distribution_plot(\n",
        "    df_processed, clusterer.cluster_labels, clusterer.mood_labels\n",
        ")\n",
        "fig_dist.show()\n",
        "\n",
        "# Cluster heatmap\n",
        "print(\"Creating cluster heatmap...\")\n",
        "fig_heatmap = visualizer.create_cluster_heatmap(\n",
        "    df_processed, clusterer.cluster_labels, clusterer.mood_labels\n",
        ")\n",
        "fig_heatmap.show()\n"
      ]
    },
    {
      "cell_type": "code",
      "execution_count": null,
      "metadata": {},
      "outputs": [],
      "source": [
        "# Save models\n",
        "print(\"Saving models...\")\n",
        "processor.save_processor('models/feature_processor.pkl')\n",
        "clusterer.save_model('models/clusterer.pkl')\n",
        "print(\"✅ Models saved successfully!\")\n",
        "\n",
        "# Summary\n",
        "print(\"\\n=== CLUSTERING ANALYSIS SUMMARY ===\")\n",
        "print(f\"Dataset: {len(df):,} songs\")\n",
        "print(f\"Processed: {len(df_processed):,} songs\")\n",
        "print(f\"Features: {len(available_cols)} audio features\")\n",
        "print(f\"Clusters: {len(clusterer.cluster_stats)} mood clusters\")\n",
        "print(f\"Optimal clusters: {optimal_params['optimal_clusters']}\")\n",
        "print(f\"Silhouette score: {optimal_params['silhouette_score']:.3f}\")\n",
        "\n",
        "print(\"\\n🎭 Mood Clusters:\")\n",
        "for stat in clusterer.cluster_stats:\n",
        "    mood_label = clusterer.mood_labels.get(stat['cluster_id'], f\"Cluster {stat['cluster_id']}\")\n",
        "    print(f\"  • {mood_label}: {stat['size']} songs ({stat['percentage']:.1f}%)\")\n"
      ]
    }
  ],
  "metadata": {
    "language_info": {
      "name": "python"
    }
  },
  "nbformat": 4,
  "nbformat_minor": 2
}
